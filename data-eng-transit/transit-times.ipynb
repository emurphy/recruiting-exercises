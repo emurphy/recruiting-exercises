{
 "cells": [
  {
   "cell_type": "markdown",
   "source": [
    "## Carrier transit times\n",
    "\n",
    "When shipping a package, we need to know whether a ground shipping method can reliably deliver from one zip code to another within 1 or 2 days. \n",
    "The file [tracking-data.csv](tracking-data.csv) includes a sample of FedEx package tracking data where all packages originate from zip3 752. Our task is to code (as far as possible) a function that will predict whether FedEx Ground can reliably ship from zip3 752 and reach each destination zip3 (in the `zip_group_to` column) within delivery days 1, 2 or 3 respectively. The target rate for on-time delivery (OTD) is 95%.\n",
    "\n",
    "### Sample transit corridor\n",
    "\n",
    "For example the following table extracts the tracking data for destination zip3 358.\n",
    "\n",
    "| trackingcode | shippingmethod | fromzip | tozip | acceptedat | deliveredat | zip_group_to | transit_time | day_of_week |\n",
    "| ------------ | -------------- | ------- | ----- | ---------- | ----------- | ------------ | ------------ | ----------- |\n",
    "| 390470684941 | FEDEX.GROUND | 75211 | 35801 | 2020-02-18T16:16:00-06:00 | 2020-02-20T10:43:39-06:00 | 358 | 2 | Tuesday |\n",
    "| 390099979099 | FEDEX.GROUND | 75211 | 35806 | 2020-02-03T17:12:00-06:00 | 2020-02-05T12:39:46-06:00 | 358 | 2 | Monday |\n",
    "| 390101490575 | FEDEX.GROUND | 75211 | 35810 | 2020-02-03T16:10:00-06:00 | 2020-02-05T08:35:21-06:00 | 358 | 2 | Monday |\n",
    "| 390101489321 | FEDEX.GROUND | 75211 | 35810 | 2020-02-03T16:10:00-06:00 | 2020-02-05T08:35:21-06:00 | 358 | 2 | Monday |\n",
    "| 390101490255 | FEDEX.GROUND | 75211 | 35810 | 2020-02-03T16:10:00-06:00 | 2020-02-05T08:35:21-06:00 | 358 | 2 | Monday |\n",
    "| 390101489398 | FEDEX.GROUND | 75211 | 35810 | 2020-02-03T16:10:00-06:00 | 2020-02-05T08:35:21-06:00 | 358 | 2 | Monday |\n",
    "\n",
    "When we send a package on FedEx Ground from 752 to 358, can we expect it to arrive within 1, 2 or 3 days? The `transit_time` column lists the number of days that each package actually spent in transit."
   ],
   "metadata": {
    "collapsed": false
   }
  },
  {
   "cell_type": "code",
   "execution_count": null,
   "outputs": [],
   "source": [
    "import pandas as pd"
   ],
   "metadata": {
    "collapsed": false,
    "pycharm": {
     "name": "#%%\n"
    }
   }
  },
  {
   "cell_type": "code",
   "execution_count": null,
   "outputs": [],
   "source": [
    "tracking_data = pd.read_csv('https://raw.githubusercontent.com/emurphy/recruiting-exercises/emmet/data-eng-transit/data-eng-transit/tracking-data.csv')"
   ],
   "metadata": {
    "collapsed": false,
    "pycharm": {
     "name": "#%%\n"
    }
   }
  },
  {
   "cell_type": "code",
   "execution_count": null,
   "outputs": [],
   "source": [
    "tracking_data\n"
   ],
   "metadata": {
    "collapsed": false,
    "pycharm": {
     "name": "#%%\n"
    }
   }
  }
 ],
 "metadata": {
  "kernelspec": {
   "display_name": "Python 3",
   "language": "python",
   "name": "python3"
  },
  "language_info": {
   "codemirror_mode": {
    "name": "ipython",
    "version": 2
   },
   "file_extension": ".py",
   "mimetype": "text/x-python",
   "name": "python",
   "nbconvert_exporter": "python",
   "pygments_lexer": "ipython2",
   "version": "2.7.6"
  },
  "pycharm": {
   "stem_cell": {
    "cell_type": "raw",
    "source": [],
    "metadata": {
     "collapsed": false
    }
   }
  }
 },
 "nbformat": 4,
 "nbformat_minor": 0
}