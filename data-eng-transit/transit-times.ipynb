{
 "cells": [
  {
   "cell_type": "markdown",
   "source": [
    "## Carrier transit times\n",
    "\n",
    "We need to know whether ground shipping methods can be sent from one zip code to another within 1 or 2 days. \n",
    "With input from [tracking-data.csv](tracking-data.csv), outline a process and code (as far as possible) a function that \n",
    "will decide whether FedEx Ground can reliably ship from zip3 752 and reach the destination \n",
    "zip3 (in the `zip_group_to` column). The target rate for on-time delivery (OTD) is 95%.\n",
    "\n",
    "### Sample transit corridor\n",
    "\n",
    "For example the following table reproduces the tracking data for destination zip3 358.\n",
    "\n",
    "| trackingcode | shippingmethod | fromzip | tozip | acceptedat | deliveredat | zip_group_to | transit_time | day_of_week |\n",
    "| ------------ | -------------- | ------- | ----- | ---------- | ----------- | ------------ | ------------ | ----------- |\n",
    "| 390470684941 | FEDEX.GROUND | 75211 | 35801 | 2020-02-18T16:16:00-06:00 | 2020-02-20T10:43:39-06:00 | 358 | 2 | Tuesday |\n",
    "| 390099979099 | FEDEX.GROUND | 75211 | 35806 | 2020-02-03T17:12:00-06:00 | 2020-02-05T12:39:46-06:00 | 358 | 2 | Monday |\n",
    "| 390101490575 | FEDEX.GROUND | 75211 | 35810 | 2020-02-03T16:10:00-06:00 | 2020-02-05T08:35:21-06:00 | 358 | 2 | Monday |\n",
    "| 390101489321 | FEDEX.GROUND | 75211 | 35810 | 2020-02-03T16:10:00-06:00 | 2020-02-05T08:35:21-06:00 | 358 | 2 | Monday |\n",
    "| 390101490255 | FEDEX.GROUND | 75211 | 35810 | 2020-02-03T16:10:00-06:00 | 2020-02-05T08:35:21-06:00 | 358 | 2 | Monday |\n",
    "| 390101489398 | FEDEX.GROUND | 75211 | 35810 | 2020-02-03T16:10:00-06:00 | 2020-02-05T08:35:21-06:00 | 358 | 2 | Monday |\n",
    "\n",
    "Can we send a package on FedEx Ground from 752 to 358 and expect it to arrive within 2 days?\n"
   ],
   "metadata": {
    "collapsed": false
   }
  },
  {
   "cell_type": "code",
   "execution_count": null,
   "outputs": [],
   "source": [
    "import pandas as pd"
   ],
   "metadata": {
    "collapsed": false,
    "pycharm": {
     "name": "#%%\n"
    }
   }
  },
  {
   "cell_type": "code",
   "execution_count": null,
   "outputs": [],
   "source": [
    "tracking_data = pd.read_csv('https://raw.githubusercontent.com/emurphy/recruiting-exercises/emmet/data-eng-transit/data-eng-transit/tracking-data.csv')"
   ],
   "metadata": {
    "collapsed": false,
    "pycharm": {
     "name": "#%%\n"
    }
   }
  },
  {
   "cell_type": "code",
   "execution_count": null,
   "outputs": [],
   "source": [
    "tracking_data\n"
   ],
   "metadata": {
    "collapsed": false,
    "pycharm": {
     "name": "#%%\n"
    }
   }
  }
 ],
 "metadata": {
  "kernelspec": {
   "display_name": "Python 3",
   "language": "python",
   "name": "python3"
  },
  "language_info": {
   "codemirror_mode": {
    "name": "ipython",
    "version": 2
   },
   "file_extension": ".py",
   "mimetype": "text/x-python",
   "name": "python",
   "nbconvert_exporter": "python",
   "pygments_lexer": "ipython2",
   "version": "2.7.6"
  },
  "pycharm": {
   "stem_cell": {
    "cell_type": "raw",
    "source": [],
    "metadata": {
     "collapsed": false
    }
   }
  }
 },
 "nbformat": 4,
 "nbformat_minor": 0
}